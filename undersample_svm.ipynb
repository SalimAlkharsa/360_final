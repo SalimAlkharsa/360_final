{
 "cells": [
  {
   "cell_type": "code",
   "execution_count": 268,
   "metadata": {},
   "outputs": [],
   "source": [
    "import numpy as np\n",
    "import pandas as pd\n",
    "import matplotlib.pyplot as plt\n",
    "import seaborn as sns\n",
    "import tensorflow as tf\n",
    "from tensorflow import keras\n",
    "from tensorflow.keras import layers\n",
    "from tensorflow.keras.models import Sequential"
   ]
  },
  {
   "cell_type": "code",
   "execution_count": 269,
   "metadata": {},
   "outputs": [],
   "source": [
    "# This is basically the numerical representation of the audio file\n",
    "data = np.load('arr_mfcc.npy')\n",
    "data = np.moveaxis(data,2,0)\n",
    "#Read the df\n",
    "df = pd.read_csv('primary_dataframe.csv')\n",
    "y = df.diagnosis_Healthy\n",
    "del df # Get this out of memory"
   ]
  },
  {
   "cell_type": "code",
   "execution_count": 270,
   "metadata": {},
   "outputs": [],
   "source": [
    "# Load the data\n",
    "data = np.load('arr_mfcc.npy')\n",
    "data = np.moveaxis(data, 2, 0)\n",
    "\n",
    "# Create a list to store the data\n",
    "data_list = []\n",
    "\n",
    "# Loop over each audio file\n",
    "for i in range(len(data)):\n",
    "    # Loop over each time step\n",
    "    time_steps = []\n",
    "    for j in range(1, len(data[i])):\n",
    "        time_steps.append(data[i][j])\n",
    "    \n",
    "    # Append the data for this audio file to the list\n",
    "    data_list.append(time_steps)\n",
    "\n",
    "# Create the dataframe\n",
    "df = pd.DataFrame({'data': data_list, 'label': y})"
   ]
  },
  {
   "attachments": {},
   "cell_type": "markdown",
   "metadata": {},
   "source": [
    "This code combines to get rid of all the 0s to make the dataset balanced"
   ]
  },
  {
   "cell_type": "code",
   "execution_count": 271,
   "metadata": {},
   "outputs": [],
   "source": [
    "# Count the number of rows with label 0 and 1\n",
    "num_0 = df['label'].value_counts()[0]\n",
    "num_1 = df['label'].value_counts()[1]\n",
    "\n",
    "\n",
    "# Calculate the number of rows to remove\n",
    "num_to_remove = abs(num_0 - num_1)-100\n",
    "\n",
    "# Remove rows with the minimum label until the number of rows for each label is equal\n",
    "df_removed = df.drop(df[df['label'] == 0].sample(num_to_remove).index)\n",
    "\n",
    "# Save removed rows to a separate DataFrame\n",
    "df_removed_only = df.loc[df.index.difference(df_removed.index)]\n",
    "\n",
    "#Replace back into df\n",
    "df = df_removed\n",
    "del df_removed"
   ]
  },
  {
   "cell_type": "code",
   "execution_count": 272,
   "metadata": {},
   "outputs": [],
   "source": [
    "from sklearn.model_selection import train_test_split\n",
    "\n",
    "# Extract the data and labels from the dataframe\n",
    "X = df['data'].values\n",
    "y = df['label'].values\n",
    "\n",
    "# Split the data and labels into training and testing sets\n",
    "X_train, X_test, y_train, y_test = train_test_split(X, y, test_size=0.2, random_state=42)"
   ]
  },
  {
   "cell_type": "code",
   "execution_count": 273,
   "metadata": {},
   "outputs": [],
   "source": [
    "# Reshape X_train and X_test to have shape (num_samples, num_features)\n",
    "X_train = np.array([np.array(x).reshape(-1) for x in X_train])\n",
    "X_test = np.array([np.array(x).reshape(-1) for x in X_test])\n"
   ]
  },
  {
   "cell_type": "code",
   "execution_count": 274,
   "metadata": {},
   "outputs": [
    {
     "name": "stdout",
     "output_type": "stream",
     "text": [
      "Accuracy: 0.9117647058823529\n"
     ]
    }
   ],
   "source": [
    "from sklearn.svm import SVC\n",
    "\n",
    "# Create an SVM model with a linear kernel\n",
    "model = SVC(kernel='linear')\n",
    "\n",
    "# Train the model on the training data\n",
    "model.fit(X_train, y_train)\n",
    "\n",
    "# Evaluate the model on the test data\n",
    "acc = model.score(X_test, y_test)\n",
    "print(f\"Accuracy: {acc}\")\n"
   ]
  },
  {
   "cell_type": "code",
   "execution_count": 275,
   "metadata": {},
   "outputs": [
    {
     "name": "stdout",
     "output_type": "stream",
     "text": [
      "              precision    recall  f1-score   support\n",
      "\n",
      "         0.0       0.93      0.97      0.95        29\n",
      "         1.0       0.75      0.60      0.67         5\n",
      "\n",
      "    accuracy                           0.91        34\n",
      "   macro avg       0.84      0.78      0.81        34\n",
      "weighted avg       0.91      0.91      0.91        34\n",
      "\n"
     ]
    }
   ],
   "source": [
    "from sklearn.metrics import classification_report\n",
    "\n",
    "# Evaluate the model on the test data and print precision, recall, and F1-score\n",
    "y_pred = model.predict(X_test)\n",
    "print(classification_report(y_test, y_pred))"
   ]
  },
  {
   "cell_type": "code",
   "execution_count": 276,
   "metadata": {},
   "outputs": [
    {
     "name": "stdout",
     "output_type": "stream",
     "text": [
      "Predicted  0.0  1.0\n",
      "Actual             \n",
      "0.0         28    1\n",
      "1.0          2    3\n"
     ]
    }
   ],
   "source": [
    "# Create a labelled confusion matrix\n",
    "cm = pd.crosstab(y_test, y_pred, rownames=['Actual'], colnames=['Predicted'])\n",
    "print(cm)"
   ]
  },
  {
   "cell_type": "code",
   "execution_count": 277,
   "metadata": {},
   "outputs": [
    {
     "name": "stdout",
     "output_type": "stream",
     "text": [
      "              precision    recall  f1-score   support\n",
      "\n",
      "         0.0       1.00      0.96      0.98       750\n",
      "         1.0       0.00      0.00      0.00         0\n",
      "\n",
      "    accuracy                           0.96       750\n",
      "   macro avg       0.50      0.48      0.49       750\n",
      "weighted avg       1.00      0.96      0.98       750\n",
      "\n"
     ]
    },
    {
     "name": "stderr",
     "output_type": "stream",
     "text": [
      "/Users/salimalkharsa/Desktop/ECEN360_Final/venv/lib/python3.9/site-packages/sklearn/metrics/_classification.py:1344: UndefinedMetricWarning: Recall and F-score are ill-defined and being set to 0.0 in labels with no true samples. Use `zero_division` parameter to control this behavior.\n",
      "  _warn_prf(average, modifier, msg_start, len(result))\n",
      "/Users/salimalkharsa/Desktop/ECEN360_Final/venv/lib/python3.9/site-packages/sklearn/metrics/_classification.py:1344: UndefinedMetricWarning: Recall and F-score are ill-defined and being set to 0.0 in labels with no true samples. Use `zero_division` parameter to control this behavior.\n",
      "  _warn_prf(average, modifier, msg_start, len(result))\n",
      "/Users/salimalkharsa/Desktop/ECEN360_Final/venv/lib/python3.9/site-packages/sklearn/metrics/_classification.py:1344: UndefinedMetricWarning: Recall and F-score are ill-defined and being set to 0.0 in labels with no true samples. Use `zero_division` parameter to control this behavior.\n",
      "  _warn_prf(average, modifier, msg_start, len(result))\n"
     ]
    }
   ],
   "source": [
    "#Testing w the biased data\n",
    "X_testb = df_removed_only['data'].values\n",
    "X_testb = np.array([np.array(x).reshape(-1) for x in X_testb])\n",
    "\n",
    "y_testb = df_removed_only['label'].values\n",
    "y_pred = model.predict(X_testb)\n",
    "\n",
    "#Metrics\n",
    "print(classification_report(y_testb, y_pred))\n",
    "# Create a labelled confusion matrix\n",
    "cm = pd.crosstab(y_testb, y_pred, rownames=['Actual'], colnames=['Predicted'])"
   ]
  },
  {
   "cell_type": "code",
   "execution_count": 278,
   "metadata": {},
   "outputs": [
    {
     "name": "stdout",
     "output_type": "stream",
     "text": [
      "Predicted  0.0  1.0\n",
      "Actual             \n",
      "0.0        722   28\n"
     ]
    }
   ],
   "source": [
    "print(cm)"
   ]
  }
 ],
 "metadata": {
  "kernelspec": {
   "display_name": "venv",
   "language": "python",
   "name": "python3"
  },
  "language_info": {
   "codemirror_mode": {
    "name": "ipython",
    "version": 3
   },
   "file_extension": ".py",
   "mimetype": "text/x-python",
   "name": "python",
   "nbconvert_exporter": "python",
   "pygments_lexer": "ipython3",
   "version": "3.9.6"
  },
  "orig_nbformat": 4
 },
 "nbformat": 4,
 "nbformat_minor": 2
}
