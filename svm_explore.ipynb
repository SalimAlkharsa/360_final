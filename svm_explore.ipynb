{
 "cells": [
  {
   "cell_type": "code",
   "execution_count": 1,
   "metadata": {},
   "outputs": [],
   "source": [
    "import numpy as np\n",
    "import pandas as pd\n",
    "import matplotlib.pyplot as plt\n",
    "import seaborn as sns"
   ]
  },
  {
   "attachments": {},
   "cell_type": "markdown",
   "metadata": {},
   "source": [
    "TO DO:\n",
    "Test oversampling\n",
    "Test undersampling\n",
    "SVMs w optimizations\n",
    "Feature select the coeffs"
   ]
  },
  {
   "attachments": {},
   "cell_type": "markdown",
   "metadata": {},
   "source": [
    "Loading the data in"
   ]
  },
  {
   "cell_type": "code",
   "execution_count": 29,
   "metadata": {},
   "outputs": [],
   "source": [
    "# This is basically the numerical representation of the audio file\n",
    "data = np.load('arr_mfcc.npy')\n",
    "data = np.moveaxis(data,2,0)\n",
    "#Read the df\n",
    "df = pd.read_csv('primary_dataframe.csv')\n",
    "y = df.diagnosis_Healthy\n",
    "del df # Get this out of memory"
   ]
  },
  {
   "cell_type": "code",
   "execution_count": 30,
   "metadata": {},
   "outputs": [],
   "source": [
    "# Load the data\n",
    "data = np.load('arr_mfcc.npy')\n",
    "data = np.moveaxis(data, 2, 0)\n",
    "\n",
    "# Create a list to store the data\n",
    "data_list = []\n",
    "\n",
    "# Loop over each audio file\n",
    "for i in range(len(data)):\n",
    "    # Loop over each time step\n",
    "    time_steps = []\n",
    "    for j in range(1, len(data[i])):\n",
    "        time_steps.append(data[i][j])\n",
    "    \n",
    "    # Append the data for this audio file to the list\n",
    "    data_list.append(time_steps)"
   ]
  },
  {
   "attachments": {},
   "cell_type": "markdown",
   "metadata": {},
   "source": [
    "data_list is a list of 920 arrays each containing one value for each index.\n",
    "so data_list[record][coeff][timestep] is basically the access key"
   ]
  },
  {
   "attachments": {},
   "cell_type": "markdown",
   "metadata": {},
   "source": [
    "I want to format the df where its 862*39 columns each column should represent a timepoint and its coeff.\n",
    "For example coeff1_1, coeff1_2 etc"
   ]
  },
  {
   "cell_type": "code",
   "execution_count": 31,
   "metadata": {},
   "outputs": [],
   "source": [
    "#Expanded data list\n",
    "expanded_list = []\n",
    "pt = []\n",
    "for data_pt in data_list:\n",
    "    expanded_list.append(pt)\n",
    "    pt = []\n",
    "    for coeff in data_pt:\n",
    "        for time_point in coeff:\n",
    "            pt.append(time_point)\n",
    "\n",
    "#Take the first element out of expanded_list\n",
    "expanded_list = expanded_list[1:]"
   ]
  },
  {
   "cell_type": "code",
   "execution_count": 32,
   "metadata": {},
   "outputs": [
    {
     "data": {
      "text/html": [
       "<div>\n",
       "<style scoped>\n",
       "    .dataframe tbody tr th:only-of-type {\n",
       "        vertical-align: middle;\n",
       "    }\n",
       "\n",
       "    .dataframe tbody tr th {\n",
       "        vertical-align: top;\n",
       "    }\n",
       "\n",
       "    .dataframe thead th {\n",
       "        text-align: right;\n",
       "    }\n",
       "</style>\n",
       "<table border=\"1\" class=\"dataframe\">\n",
       "  <thead>\n",
       "    <tr style=\"text-align: right;\">\n",
       "      <th></th>\n",
       "      <th>0</th>\n",
       "      <th>1</th>\n",
       "      <th>2</th>\n",
       "      <th>3</th>\n",
       "      <th>4</th>\n",
       "      <th>5</th>\n",
       "      <th>6</th>\n",
       "      <th>7</th>\n",
       "      <th>8</th>\n",
       "      <th>9</th>\n",
       "      <th>...</th>\n",
       "      <th>33609</th>\n",
       "      <th>33610</th>\n",
       "      <th>33611</th>\n",
       "      <th>33612</th>\n",
       "      <th>33613</th>\n",
       "      <th>33614</th>\n",
       "      <th>33615</th>\n",
       "      <th>33616</th>\n",
       "      <th>33617</th>\n",
       "      <th>label</th>\n",
       "    </tr>\n",
       "  </thead>\n",
       "  <tbody>\n",
       "    <tr>\n",
       "      <th>0</th>\n",
       "      <td>0.0</td>\n",
       "      <td>0.0</td>\n",
       "      <td>0.0</td>\n",
       "      <td>121.746948</td>\n",
       "      <td>136.982208</td>\n",
       "      <td>130.102921</td>\n",
       "      <td>124.637711</td>\n",
       "      <td>126.339783</td>\n",
       "      <td>121.489182</td>\n",
       "      <td>114.666153</td>\n",
       "      <td>...</td>\n",
       "      <td>1.049468</td>\n",
       "      <td>3.614823</td>\n",
       "      <td>0.639579</td>\n",
       "      <td>-1.597457</td>\n",
       "      <td>1.816956</td>\n",
       "      <td>2.416618</td>\n",
       "      <td>-0.118036</td>\n",
       "      <td>3.692537</td>\n",
       "      <td>5.124985</td>\n",
       "      <td>0.0</td>\n",
       "    </tr>\n",
       "    <tr>\n",
       "      <th>1</th>\n",
       "      <td>0.0</td>\n",
       "      <td>0.0</td>\n",
       "      <td>0.0</td>\n",
       "      <td>115.861801</td>\n",
       "      <td>118.390411</td>\n",
       "      <td>118.370117</td>\n",
       "      <td>109.110718</td>\n",
       "      <td>109.259323</td>\n",
       "      <td>111.860153</td>\n",
       "      <td>113.856010</td>\n",
       "      <td>...</td>\n",
       "      <td>-0.227390</td>\n",
       "      <td>3.137236</td>\n",
       "      <td>1.418419</td>\n",
       "      <td>3.772516</td>\n",
       "      <td>7.746039</td>\n",
       "      <td>3.535635</td>\n",
       "      <td>-1.156423</td>\n",
       "      <td>0.290763</td>\n",
       "      <td>0.832430</td>\n",
       "      <td>0.0</td>\n",
       "    </tr>\n",
       "    <tr>\n",
       "      <th>2</th>\n",
       "      <td>0.0</td>\n",
       "      <td>0.0</td>\n",
       "      <td>0.0</td>\n",
       "      <td>103.759872</td>\n",
       "      <td>116.726585</td>\n",
       "      <td>131.779861</td>\n",
       "      <td>133.090576</td>\n",
       "      <td>128.802948</td>\n",
       "      <td>128.088867</td>\n",
       "      <td>131.850586</td>\n",
       "      <td>...</td>\n",
       "      <td>1.426593</td>\n",
       "      <td>1.742175</td>\n",
       "      <td>-0.133874</td>\n",
       "      <td>-0.698511</td>\n",
       "      <td>2.769688</td>\n",
       "      <td>6.254745</td>\n",
       "      <td>2.060101</td>\n",
       "      <td>2.717711</td>\n",
       "      <td>7.071089</td>\n",
       "      <td>0.0</td>\n",
       "    </tr>\n",
       "    <tr>\n",
       "      <th>3</th>\n",
       "      <td>0.0</td>\n",
       "      <td>0.0</td>\n",
       "      <td>0.0</td>\n",
       "      <td>84.588654</td>\n",
       "      <td>116.151443</td>\n",
       "      <td>118.165756</td>\n",
       "      <td>127.619461</td>\n",
       "      <td>130.909302</td>\n",
       "      <td>124.239517</td>\n",
       "      <td>117.667412</td>\n",
       "      <td>...</td>\n",
       "      <td>-1.887370</td>\n",
       "      <td>0.797615</td>\n",
       "      <td>2.225058</td>\n",
       "      <td>6.033323</td>\n",
       "      <td>9.317051</td>\n",
       "      <td>5.597347</td>\n",
       "      <td>6.741650</td>\n",
       "      <td>10.329792</td>\n",
       "      <td>5.493144</td>\n",
       "      <td>0.0</td>\n",
       "    </tr>\n",
       "    <tr>\n",
       "      <th>4</th>\n",
       "      <td>0.0</td>\n",
       "      <td>0.0</td>\n",
       "      <td>0.0</td>\n",
       "      <td>112.923431</td>\n",
       "      <td>114.193184</td>\n",
       "      <td>113.110992</td>\n",
       "      <td>97.997498</td>\n",
       "      <td>98.535042</td>\n",
       "      <td>96.229752</td>\n",
       "      <td>98.645630</td>\n",
       "      <td>...</td>\n",
       "      <td>10.215909</td>\n",
       "      <td>1.997435</td>\n",
       "      <td>-2.325577</td>\n",
       "      <td>3.389224</td>\n",
       "      <td>7.490587</td>\n",
       "      <td>5.754083</td>\n",
       "      <td>3.451414</td>\n",
       "      <td>2.424506</td>\n",
       "      <td>1.807187</td>\n",
       "      <td>0.0</td>\n",
       "    </tr>\n",
       "  </tbody>\n",
       "</table>\n",
       "<p>5 rows × 33619 columns</p>\n",
       "</div>"
      ],
      "text/plain": [
       "     0    1    2           3           4           5           6           7   \n",
       "0  0.0  0.0  0.0  121.746948  136.982208  130.102921  124.637711  126.339783  \\\n",
       "1  0.0  0.0  0.0  115.861801  118.390411  118.370117  109.110718  109.259323   \n",
       "2  0.0  0.0  0.0  103.759872  116.726585  131.779861  133.090576  128.802948   \n",
       "3  0.0  0.0  0.0   84.588654  116.151443  118.165756  127.619461  130.909302   \n",
       "4  0.0  0.0  0.0  112.923431  114.193184  113.110992   97.997498   98.535042   \n",
       "\n",
       "            8           9  ...      33609     33610     33611     33612   \n",
       "0  121.489182  114.666153  ...   1.049468  3.614823  0.639579 -1.597457  \\\n",
       "1  111.860153  113.856010  ...  -0.227390  3.137236  1.418419  3.772516   \n",
       "2  128.088867  131.850586  ...   1.426593  1.742175 -0.133874 -0.698511   \n",
       "3  124.239517  117.667412  ...  -1.887370  0.797615  2.225058  6.033323   \n",
       "4   96.229752   98.645630  ...  10.215909  1.997435 -2.325577  3.389224   \n",
       "\n",
       "      33613     33614     33615      33616     33617  label  \n",
       "0  1.816956  2.416618 -0.118036   3.692537  5.124985    0.0  \n",
       "1  7.746039  3.535635 -1.156423   0.290763  0.832430    0.0  \n",
       "2  2.769688  6.254745  2.060101   2.717711  7.071089    0.0  \n",
       "3  9.317051  5.597347  6.741650  10.329792  5.493144    0.0  \n",
       "4  7.490587  5.754083  3.451414   2.424506  1.807187    0.0  \n",
       "\n",
       "[5 rows x 33619 columns]"
      ]
     },
     "execution_count": 32,
     "metadata": {},
     "output_type": "execute_result"
    }
   ],
   "source": [
    "df = pd.DataFrame(expanded_list)\n",
    "del expanded_list # Get this out of memory\n",
    "#Add the label\n",
    "df['label'] = y\n",
    "df.head()"
   ]
  },
  {
   "attachments": {},
   "cell_type": "markdown",
   "metadata": {},
   "source": [
    "Under Sampling:"
   ]
  },
  {
   "cell_type": "code",
   "execution_count": 50,
   "metadata": {},
   "outputs": [],
   "source": [
    "# Count the number of rows with label 0 and 1\n",
    "num_0 = df['label'].value_counts()[0]\n",
    "num_1 = df['label'].value_counts()[1]\n",
    "\n",
    "\n",
    "# Calculate the number of rows to remove\n",
    "num_to_remove = abs(num_0 - num_1)-100\n",
    "\n",
    "# Remove rows with the minimum label until the number of rows for each label is equal\n",
    "df_removed = df.drop(df[df['label'] == 0].sample(num_to_remove).index)"
   ]
  },
  {
   "cell_type": "code",
   "execution_count": 51,
   "metadata": {},
   "outputs": [],
   "source": [
    "from sklearn.model_selection import train_test_split\n",
    "\n",
    "# Extract the data and labels from the dataframe\n",
    "X = df_removed.loc[:, ~df_removed.columns.isin(['label'])]\n",
    "y = df_removed['label'].values\n",
    "\n",
    "# Split the data and labels into training and testing sets\n",
    "X_train, X_test, y_train, y_test = train_test_split(X, y, test_size=0.2, random_state=31, stratify=y)"
   ]
  },
  {
   "cell_type": "code",
   "execution_count": 53,
   "metadata": {},
   "outputs": [],
   "source": [
    "# PCA to reduce the dimensionality of the data\n",
    "from sklearn.decomposition import PCA\n",
    "\n",
    "#Scaling\n",
    "from sklearn.preprocessing import StandardScaler\n",
    "scaler = StandardScaler()\n",
    "X_train = scaler.fit_transform(X_train)\n",
    "X_test = scaler.transform(X_test)\n",
    "\n",
    "# Create a PCA object to transform the data to an adequate amount judged by elbows\n",
    "pca = PCA(n_components=0.95, random_state=31)\n",
    "# Do the PCA\n",
    "pca.fit(X_train)\n",
    "# Transform the data\n",
    "X_train = pca.transform(X_train)\n",
    "X_test = pca.transform(X_test)"
   ]
  },
  {
   "cell_type": "code",
   "execution_count": 55,
   "metadata": {},
   "outputs": [
    {
     "name": "stdout",
     "output_type": "stream",
     "text": [
      "Accuracy: 0.8529411764705882\n"
     ]
    }
   ],
   "source": [
    "from sklearn.svm import SVC\n",
    "\n",
    "# Create an SVM model with a linear kernel\n",
    "model = SVC(kernel='linear')\n",
    "\n",
    "# Train the model on the training data\n",
    "model.fit(X_train, y_train)\n",
    "\n",
    "# Evaluate the model on the test data\n",
    "acc = model.score(X_test, y_test)\n",
    "print(f\"Accuracy: {acc}\")"
   ]
  },
  {
   "cell_type": "code",
   "execution_count": 56,
   "metadata": {},
   "outputs": [
    {
     "name": "stdout",
     "output_type": "stream",
     "text": [
      "              precision    recall  f1-score   support\n",
      "\n",
      "         0.0       0.87      0.96      0.91        27\n",
      "         1.0       0.75      0.43      0.55         7\n",
      "\n",
      "    accuracy                           0.85        34\n",
      "   macro avg       0.81      0.70      0.73        34\n",
      "weighted avg       0.84      0.85      0.84        34\n",
      "\n",
      "Predicted  0.0  1.0\n",
      "Actual             \n",
      "0.0         26    1\n",
      "1.0          4    3\n"
     ]
    }
   ],
   "source": [
    "from sklearn.metrics import classification_report\n",
    "\n",
    "# Evaluate the model on the test data and print precision, recall, and F1-score\n",
    "y_pred = model.predict(X_test)\n",
    "print(classification_report(y_test, y_pred))\n",
    "\n",
    "# Create a labelled confusion matrix\n",
    "cm = pd.crosstab(y_test, y_pred, rownames=['Actual'], colnames=['Predicted'])\n",
    "print(cm)"
   ]
  },
  {
   "attachments": {},
   "cell_type": "markdown",
   "metadata": {},
   "source": [
    "Normal Sampling:"
   ]
  },
  {
   "cell_type": "code",
   "execution_count": 57,
   "metadata": {},
   "outputs": [],
   "source": [
    "from sklearn.model_selection import train_test_split\n",
    "\n",
    "# Extract the data and labels from the dataframe\n",
    "X = df.loc[:, ~df.columns.isin(['label'])]\n",
    "y = df['label'].values\n",
    "\n",
    "# Split the data and labels into training and testing sets\n",
    "X_train, X_test, y_train, y_test = train_test_split(X, y, test_size=0.2, random_state=31, stratify=y)"
   ]
  },
  {
   "cell_type": "code",
   "execution_count": 58,
   "metadata": {},
   "outputs": [],
   "source": [
    "# PCA to reduce the dimensionality of the data\n",
    "from sklearn.decomposition import PCA\n",
    "\n",
    "#Scaling\n",
    "from sklearn.preprocessing import StandardScaler\n",
    "scaler = StandardScaler()\n",
    "X_train = scaler.fit_transform(X_train)\n",
    "X_test = scaler.transform(X_test)\n",
    "\n",
    "# Create a PCA object to transform the data to an adequate amount judged by elbows\n",
    "pca = PCA(n_components=0.95, random_state=31)\n",
    "# Do the PCA\n",
    "pca.fit(X_train)\n",
    "# Transform the data\n",
    "X_train = pca.transform(X_train)\n",
    "X_test = pca.transform(X_test)"
   ]
  },
  {
   "cell_type": "code",
   "execution_count": 59,
   "metadata": {},
   "outputs": [
    {
     "name": "stdout",
     "output_type": "stream",
     "text": [
      "Accuracy: 0.9619565217391305\n"
     ]
    }
   ],
   "source": [
    "from sklearn.svm import SVC\n",
    "\n",
    "# Create an SVM model with a linear kernel\n",
    "model = SVC(kernel='rbf')\n",
    "\n",
    "# Train the model on the training data\n",
    "model.fit(X_train, y_train)\n",
    "\n",
    "# Evaluate the model on the test data\n",
    "acc = model.score(X_test, y_test)\n",
    "print(f\"Accuracy: {acc}\")"
   ]
  },
  {
   "cell_type": "code",
   "execution_count": 60,
   "metadata": {},
   "outputs": [
    {
     "name": "stdout",
     "output_type": "stream",
     "text": [
      "              precision    recall  f1-score   support\n",
      "\n",
      "         0.0       0.96      1.00      0.98       177\n",
      "         1.0       0.00      0.00      0.00         7\n",
      "\n",
      "    accuracy                           0.96       184\n",
      "   macro avg       0.48      0.50      0.49       184\n",
      "weighted avg       0.93      0.96      0.94       184\n",
      "\n",
      "Predicted  0.0\n",
      "Actual        \n",
      "0.0        177\n",
      "1.0          7\n"
     ]
    },
    {
     "name": "stderr",
     "output_type": "stream",
     "text": [
      "/Users/salimalkharsa/Desktop/ECEN360_Final/venv/lib/python3.9/site-packages/sklearn/metrics/_classification.py:1344: UndefinedMetricWarning: Precision and F-score are ill-defined and being set to 0.0 in labels with no predicted samples. Use `zero_division` parameter to control this behavior.\n",
      "  _warn_prf(average, modifier, msg_start, len(result))\n",
      "/Users/salimalkharsa/Desktop/ECEN360_Final/venv/lib/python3.9/site-packages/sklearn/metrics/_classification.py:1344: UndefinedMetricWarning: Precision and F-score are ill-defined and being set to 0.0 in labels with no predicted samples. Use `zero_division` parameter to control this behavior.\n",
      "  _warn_prf(average, modifier, msg_start, len(result))\n",
      "/Users/salimalkharsa/Desktop/ECEN360_Final/venv/lib/python3.9/site-packages/sklearn/metrics/_classification.py:1344: UndefinedMetricWarning: Precision and F-score are ill-defined and being set to 0.0 in labels with no predicted samples. Use `zero_division` parameter to control this behavior.\n",
      "  _warn_prf(average, modifier, msg_start, len(result))\n"
     ]
    }
   ],
   "source": [
    "from sklearn.metrics import classification_report\n",
    "\n",
    "# Evaluate the model on the test data and print precision, recall, and F1-score\n",
    "y_pred = model.predict(X_test)\n",
    "print(classification_report(y_test, y_pred))\n",
    "\n",
    "# Create a labelled confusion matrix\n",
    "cm = pd.crosstab(y_test, y_pred, rownames=['Actual'], colnames=['Predicted'])\n",
    "print(cm)"
   ]
  }
 ],
 "metadata": {
  "kernelspec": {
   "display_name": "venv",
   "language": "python",
   "name": "python3"
  },
  "language_info": {
   "codemirror_mode": {
    "name": "ipython",
    "version": 3
   },
   "file_extension": ".py",
   "mimetype": "text/x-python",
   "name": "python",
   "nbconvert_exporter": "python",
   "pygments_lexer": "ipython3",
   "version": "3.9.6"
  },
  "orig_nbformat": 4
 },
 "nbformat": 4,
 "nbformat_minor": 2
}
