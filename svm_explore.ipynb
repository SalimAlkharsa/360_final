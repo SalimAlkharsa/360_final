{
 "cells": [
  {
   "cell_type": "code",
   "execution_count": 11,
   "metadata": {},
   "outputs": [],
   "source": [
    "import numpy as np\n",
    "import pandas as pd\n",
    "import matplotlib.pyplot as plt\n",
    "import seaborn as sns"
   ]
  },
  {
   "cell_type": "code",
   "execution_count": 12,
   "metadata": {},
   "outputs": [],
   "source": [
    "# This is basically the numerical representation of the audio file\n",
    "data = np.load('arr_mfcc.npy')\n",
    "data = np.moveaxis(data,2,0)\n",
    "#Read the df\n",
    "df = pd.read_csv('primary_dataframe.csv')\n",
    "y = df.diagnosis_Healthy\n",
    "del df # Get this out of memory"
   ]
  },
  {
   "cell_type": "code",
   "execution_count": 13,
   "metadata": {},
   "outputs": [],
   "source": [
    "# Load the data\n",
    "data = np.load('arr_mfcc.npy')\n",
    "data = np.moveaxis(data, 2, 0)\n",
    "\n",
    "# Create a list to store the data\n",
    "data_list = []\n",
    "\n",
    "# Loop over each audio file\n",
    "for i in range(len(data)):\n",
    "    # Loop over each time step\n",
    "    time_steps = []\n",
    "    for j in range(1, len(data[i])):\n",
    "        time_steps.append(data[i][j])\n",
    "    \n",
    "    # Append the data for this audio file to the list\n",
    "    data_list.append(time_steps)\n",
    "\n",
    "# Create the dataframe\n",
    "df = pd.DataFrame({'data': data_list, 'label': y})"
   ]
  },
  {
   "cell_type": "code",
   "execution_count": 14,
   "metadata": {},
   "outputs": [],
   "source": [
    "from sklearn.model_selection import train_test_split\n",
    "\n",
    "# Extract the data and labels from the dataframe\n",
    "X = df['data'].values\n",
    "y = df['label'].values\n",
    "\n",
    "# Split the data and labels into training and testing sets\n",
    "X_train, X_test, y_train, y_test = train_test_split(X, y, test_size=0.2, random_state=42, stratify=y)"
   ]
  },
  {
   "cell_type": "code",
   "execution_count": 15,
   "metadata": {},
   "outputs": [],
   "source": [
    "# Reshape X_train and X_test to have shape (num_samples, num_features)\n",
    "X_train = np.array([np.array(x).reshape(-1) for x in X_train])\n",
    "X_test = np.array([np.array(x).reshape(-1) for x in X_test])"
   ]
  },
  {
   "cell_type": "code",
   "execution_count": 16,
   "metadata": {},
   "outputs": [
    {
     "name": "stdout",
     "output_type": "stream",
     "text": [
      "Accuracy: 0.9456521739130435\n"
     ]
    }
   ],
   "source": [
    "from sklearn.svm import SVC\n",
    "\n",
    "# Create an SVM model with a linear kernel\n",
    "model = SVC(kernel='linear')\n",
    "\n",
    "# Train the model on the training data\n",
    "model.fit(X_train, y_train)\n",
    "\n",
    "# Evaluate the model on the test data\n",
    "acc = model.score(X_test, y_test)\n",
    "print(f\"Accuracy: {acc}\")"
   ]
  },
  {
   "cell_type": "code",
   "execution_count": 17,
   "metadata": {},
   "outputs": [
    {
     "name": "stdout",
     "output_type": "stream",
     "text": [
      "              precision    recall  f1-score   support\n",
      "\n",
      "         0.0       0.96      0.98      0.97       177\n",
      "         1.0       0.00      0.00      0.00         7\n",
      "\n",
      "    accuracy                           0.95       184\n",
      "   macro avg       0.48      0.49      0.49       184\n",
      "weighted avg       0.92      0.95      0.94       184\n",
      "\n",
      "Predicted  0.0  1.0\n",
      "Actual             \n",
      "0.0        174    3\n",
      "1.0          7    0\n"
     ]
    }
   ],
   "source": [
    "from sklearn.metrics import classification_report\n",
    "\n",
    "# Evaluate the model on the test data and print precision, recall, and F1-score\n",
    "y_pred = model.predict(X_test)\n",
    "print(classification_report(y_test, y_pred))\n",
    "\n",
    "# Create a labelled confusion matrix\n",
    "cm = pd.crosstab(y_test, y_pred, rownames=['Actual'], colnames=['Predicted'])\n",
    "print(cm)"
   ]
  },
  {
   "cell_type": "code",
   "execution_count": 21,
   "metadata": {},
   "outputs": [
    {
     "data": {
      "text/plain": [
       "(184, 736, 0.03804347826086957, 0.03804347826086957)"
      ]
     },
     "execution_count": 21,
     "metadata": {},
     "output_type": "execute_result"
    }
   ],
   "source": [
    "len(X_test), len(X_train), y_train.mean(), y_test.mean()"
   ]
  }
 ],
 "metadata": {
  "kernelspec": {
   "display_name": "venv",
   "language": "python",
   "name": "python3"
  },
  "language_info": {
   "codemirror_mode": {
    "name": "ipython",
    "version": 3
   },
   "file_extension": ".py",
   "mimetype": "text/x-python",
   "name": "python",
   "nbconvert_exporter": "python",
   "pygments_lexer": "ipython3",
   "version": "3.9.6"
  },
  "orig_nbformat": 4
 },
 "nbformat": 4,
 "nbformat_minor": 2
}
